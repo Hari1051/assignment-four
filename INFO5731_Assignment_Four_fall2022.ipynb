{
  "cells": [
    {
      "cell_type": "markdown",
      "metadata": {
        "id": "view-in-github"
      },
      "source": [
        "<a href=\"https://colab.research.google.com/github/unt-iialab/INFO5731_Spring2020/blob/master/Assignments/INFO5731_Assignment_Four.ipynb\" target=\"_parent\"><img src=\"https://colab.research.google.com/assets/colab-badge.svg\" alt=\"Open In Colab\"/></a>"
      ]
    },
    {
      "cell_type": "markdown",
      "metadata": {
        "id": "USSdXHuqnwv9"
      },
      "source": [
        "# **INFO5731 Assignment Four**\n",
        "\n",
        "In this assignment, you are required to conduct topic modeling, sentiment analysis based on **the dataset you created from assignment three**."
      ]
    },
    {
      "cell_type": "markdown",
      "metadata": {
        "id": "YWxodXh5n4xF"
      },
      "source": [
        "# **Question 1: Topic Modeling**"
      ]
    },
    {
      "cell_type": "markdown",
      "metadata": {
        "id": "TenBkDJ5n95k"
      },
      "source": [
        "(30 points). This question is designed to help you develop a feel for the way topic modeling works, the connection to the human meanings of documents. Based on the dataset from assignment three, write a python program to **identify the top 10 topics in the dataset**. Before answering this question, please review the materials in lesson 8, especially the code for LDA, LSA, and BERTopic. The following information should be reported:\n",
        "\n",
        "(1) Features (text representation) used for topic modeling.\n",
        "\n",
        "(2) Top 10 clusters for topic modeling.\n",
        "\n",
        "(3) Summarize and describe the topic for each cluster. \n"
      ]
    },
    {
      "cell_type": "code",
      "execution_count": 28,
      "metadata": {
        "colab": {
          "base_uri": "https://localhost:8080/"
        },
        "id": "l4qEyGy7LmJ3",
        "outputId": "4f19ff9f-c303-41f8-acfb-b0e7b84d25fe"
      },
      "outputs": [
        {
          "output_type": "stream",
          "name": "stdout",
          "text": [
            "reading from file\n"
          ]
        }
      ],
      "source": [
        "from bs4 import BeautifulSoup\n",
        "import re,os\n",
        "import pandas as pd\n",
        "import numpy as np\n",
        "import itertools\n",
        "import lxml.html as LH\n",
        "from wordcloud import WordCloud\n",
        "import urllib.request as urllib2\n",
        "\n",
        "# from sklearn.feature_extraction.text import TfidfVectorizer\n",
        "def read_file():\n",
        "    return open(\"text-dataset.txt\",\"r\").readlines()\n",
        "def write_file(data):\n",
        "    file = open(\"text-dataset.txt\",\"w\")\n",
        "\n",
        "    for line in data[0]:\n",
        "        file.write(line)\n",
        "    file.close()\n",
        "def getDoxyDonkeyText(testUrl):\n",
        "    request = urllib2.Request(testUrl)\n",
        "    response = urllib2.urlopen(request)\n",
        "    soup = BeautifulSoup(response)\n",
        "    mydivs = soup.findAll(\"div\", {\"class\":'post-body'})\n",
        "    \n",
        "\n",
        "    posts =[]\n",
        "    for div in mydivs:\n",
        "        posts+=map(lambda p:str(str(p.text).encode('ascii', errors='replace')).replace(\"?\",\" \"), div.findAll(\"li\"))\n",
        "    return posts\n",
        "\n",
        "def extractPosts():\n",
        "    url = \"https://doxydonkey.blogspot.com/\"\n",
        "    # requesting url\n",
        "    links = []\n",
        "    request = urllib2.Request(url)\n",
        "    respOfReq = urllib2.urlopen(request)\n",
        "    # getting data\n",
        "\n",
        "    soup = BeautifulSoup(respOfReq,features=\"lxml\")\n",
        "\n",
        "    for aTag in soup.findAll('a'):\n",
        "   \n",
        "        try:\n",
        "            url = aTag['href']\n",
        "            title = aTag['title']\n",
        "            if title == \"Older Posts\":\n",
        "                # Printing title & URL\n",
        "                print(title, url)\n",
        "                links.append(url)\n",
        "\n",
        "        except:\n",
        "\n",
        "            title = \"\"\n",
        "    return links\n",
        "\n",
        "\n",
        "if os.path.isfile(\"text-dataset.txt\"):\n",
        "    print(\"reading from file\")\n",
        "    data = read_file()\n",
        "else:\n",
        "    # CALLING extract POSTS\n",
        "    print(\"extracting data...\")\n",
        "    links = extractPosts()\n",
        "\n",
        "\n",
        "    doxyDonkeyPosts = []\n",
        "    for link in links:\n",
        "        doxyDonkeyPosts.append(getDoxyDonkeyText(link))\n",
        "\n",
        "    write_file(data=doxyDonkeyPosts)\n",
        "    data = read_file()\n"
      ]
    },
    {
      "cell_type": "code",
      "execution_count": 32,
      "metadata": {
        "colab": {
          "base_uri": "https://localhost:8080/",
          "height": 235
        },
        "id": "PuFPKhC0m1fd",
        "outputId": "6dadce41-c5c6-4aca-fa46-dc2cec067245"
      },
      "outputs": [
        {
          "output_type": "stream",
          "name": "stdout",
          "text": [
            "17\n"
          ]
        },
        {
          "output_type": "execute_result",
          "data": {
            "text/plain": [
              "<PIL.Image.Image image mode=RGB size=400x200 at 0x7FD856826CA0>"
            ],
            "image/png": "[encoded data removed]"
          },
          "metadata": {},
          "execution_count": 32
        }
      ],
      "source": [
        "print(len(data))\n",
        "\n",
        "\n",
        "\n",
        "# Create a WordCloud object\n",
        "wordcloud = WordCloud(background_color=\"white\", max_words=5000, contour_width=3, contour_color='steelblue')\n",
        "# Generate a word cloud\n",
        "\n",
        "wordcloud.generate(data[0])\n",
        "# Visualize the word cloud\n",
        "wordcloud.to_image()"
      ]
    },
    {
      "cell_type": "code",
      "source": [
        "!pip install stop_words\n",
        "!pip install gensim\n",
        "from nltk.tokenize import RegexpTokenizer\n",
        "from stop_words import get_stop_words\n",
        "from nltk.stem.porter import PorterStemmer\n",
        "from gensim import corpora, models\n",
        "import gensim\n",
        "en_stop = get_stop_words('en')\n",
        "tokenizer = RegexpTokenizer(r'\\w+')\n",
        "p_stemmer = PorterStemmer()\n",
        "texts = []\n",
        "for i in data:\n",
        "    \n",
        "    # clean and tokenize document string\n",
        "    raw = i.lower()\n",
        "    tokens = tokenizer.tokenize(raw)\n",
        "\n",
        "    # remove stop words from tokens\n",
        "    stopped_tokens = [i for i in tokens if not i in en_stop]\n",
        "    \n",
        "    # stem tokens\n",
        "    stemmed_tokens = [p_stemmer.stem(i) for i in stopped_tokens]\n",
        "    \n",
        "    # add tokens to list\n",
        "    texts.append(stemmed_tokens)\n",
        "\n",
        "# turn our tokenized documents into a id <-> term dictionary\n",
        "dictionary = corpora.Dictionary(texts)\n",
        "    \n",
        "# convert tokenized documents into a document-term matrix\n",
        "corpus = [dictionary.doc2bow(text) for text in texts]\n",
        "\n",
        "# generate LDA model\n",
        "ldamodel = gensim.models.ldamodel.LdaModel(corpus, num_topics=2, id2word = dictionary, passes=20)\n",
        "ldamodel"
      ],
      "metadata": {
        "colab": {
          "base_uri": "https://localhost:8080/"
        },
        "id": "lW_fQTzZbhTQ",
        "outputId": "7500e4b5-16f7-4e8b-e87c-0303a4a37a55"
      },
      "execution_count": 52,
      "outputs": [
        {
          "output_type": "stream",
          "name": "stdout",
          "text": [
            "Looking in indexes: https://pypi.org/simple, https://us-python.pkg.dev/colab-wheels/public/simple/\n",
            "Requirement already satisfied: stop_words in /usr/local/lib/python3.8/dist-packages (2018.7.23)\n",
            "Looking in indexes: https://pypi.org/simple, https://us-python.pkg.dev/colab-wheels/public/simple/\n",
            "Requirement already satisfied: gensim in /usr/local/lib/python3.8/dist-packages (3.6.0)\n",
            "Requirement already satisfied: numpy>=1.11.3 in /usr/local/lib/python3.8/dist-packages (from gensim) (1.21.6)\n",
            "Requirement already satisfied: scipy>=0.18.1 in /usr/local/lib/python3.8/dist-packages (from gensim) (1.7.3)\n",
            "Requirement already satisfied: smart-open>=1.2.1 in /usr/local/lib/python3.8/dist-packages (from gensim) (5.2.1)\n",
            "Requirement already satisfied: six>=1.5.0 in /usr/local/lib/python3.8/dist-packages (from gensim) (1.15.0)\n"
          ]
        },
        {
          "output_type": "execute_result",
          "data": {
            "text/plain": [
              "<gensim.models.ldamodel.LdaModel at 0x7fd8542338e0>"
            ]
          },
          "metadata": {},
          "execution_count": 52
        }
      ]
    },
    {
      "cell_type": "code",
      "source": [
        "print(ldamodel.print_topics(num_topics=10, num_words=10))"
      ],
      "metadata": {
        "colab": {
          "base_uri": "https://localhost:8080/"
        },
        "id": "ArcRd8lVcU5L",
        "outputId": "fdc2f9c5-b40b-48af-eac6-96f92bfa361a"
      },
      "execution_count": 53,
      "outputs": [
        {
          "output_type": "stream",
          "name": "stdout",
          "text": [
            "[(0, '0.014*\"s\" + 0.010*\"uber\" + 0.009*\"compani\" + 0.007*\"will\" + 0.007*\"develop\" + 0.007*\"bitcoin\" + 0.006*\"drive\" + 0.006*\"self\" + 0.006*\"car\" + 0.006*\"use\"'), (1, '0.025*\"s\" + 0.013*\"billion\" + 0.011*\"compani\" + 0.008*\"softbank\" + 0.007*\"percent\" + 0.007*\"fund\" + 0.006*\"deal\" + 0.005*\"video\" + 0.005*\"yuan\" + 0.005*\"revenu\"')]\n"
          ]
        }
      ]
    },
    {
      "cell_type": "code",
      "execution_count": 33,
      "metadata": {
        "colab": {
          "base_uri": "https://localhost:8080/",
          "height": 926,
          "referenced_widgets": [
            "ec88bf33902f4386942387f4ce2fdfba",
            "86a0cf7633c34a29a662eaaaefbe41eb",
            "636786e174c6438995950f2a1009b187",
            "0fa6a73ef6834df980a7f95c41be81d9",
            "f7cc20b468e640ee997fd9479001b943",
            "b6b9c4f2967543e2917025344f3805c9",
            "75984d158e2d48f9935234f4fa65280a",
            "8d370c1bbfa54f44af7dcc267d3fe392",
            "1af0bdce49664a64bdce73619aa322d4",
            "ee0eeb1215d94ccca761fb1fefe6c137",
            "5875c8ff753240e8b295c1a346d99727"
          ]
        },
        "id": "a6uLL6xeLmJ6",
        "outputId": "336c67ba-934b-4a8e-ae56-c830ff2637f8"
      },
      "outputs": [
        {
          "output_type": "stream",
          "name": "stdout",
          "text": [
            "Looking in indexes: https://pypi.org/simple, https://us-python.pkg.dev/colab-wheels/public/simple/\n",
            "Requirement already satisfied: bertopic in /usr/local/lib/python3.8/dist-packages (0.12.0)\n",
            "Requirement already satisfied: scikit-learn>=0.22.2.post1 in /usr/local/lib/python3.8/dist-packages (from bertopic) (1.0.2)\n",
            "Requirement already satisfied: pandas>=1.1.5 in /usr/local/lib/python3.8/dist-packages (from bertopic) (1.3.5)\n",
            "Requirement already satisfied: umap-learn>=0.5.0 in /usr/local/lib/python3.8/dist-packages (from bertopic) (0.5.3)\n",
            "Requirement already satisfied: plotly>=4.7.0 in /usr/local/lib/python3.8/dist-packages (from bertopic) (5.5.0)\n",
            "Requirement already satisfied: tqdm>=4.41.1 in /usr/local/lib/python3.8/dist-packages (from bertopic) (4.64.1)\n",
            "Requirement already satisfied: pyyaml<6.0 in /usr/local/lib/python3.8/dist-packages (from bertopic) (5.4.1)\n",
            "Requirement already satisfied: numpy>=1.20.0 in /usr/local/lib/python3.8/dist-packages (from bertopic) (1.21.6)\n",
            "Requirement already satisfied: hdbscan>=0.8.28 in /usr/local/lib/python3.8/dist-packages (from bertopic) (0.8.29)\n",
            "Requirement already satisfied: sentence-transformers>=0.4.1 in /usr/local/lib/python3.8/dist-packages (from bertopic) (2.2.2)\n",
            "Requirement already satisfied: joblib>=1.0 in /usr/local/lib/python3.8/dist-packages (from hdbscan>=0.8.28->bertopic) (1.2.0)\n",
            "Requirement already satisfied: scipy>=1.0 in /usr/local/lib/python3.8/dist-packages (from hdbscan>=0.8.28->bertopic) (1.7.3)\n",
            "Requirement already satisfied: cython>=0.27 in /usr/local/lib/python3.8/dist-packages (from hdbscan>=0.8.28->bertopic) (0.29.32)\n",
            "Requirement already satisfied: python-dateutil>=2.7.3 in /usr/local/lib/python3.8/dist-packages (from pandas>=1.1.5->bertopic) (2.8.2)\n",
            "Requirement already satisfied: pytz>=2017.3 in /usr/local/lib/python3.8/dist-packages (from pandas>=1.1.5->bertopic) (2022.6)\n",
            "Requirement already satisfied: six in /usr/local/lib/python3.8/dist-packages (from plotly>=4.7.0->bertopic) (1.15.0)\n",
            "Requirement already satisfied: tenacity>=6.2.0 in /usr/local/lib/python3.8/dist-packages (from plotly>=4.7.0->bertopic) (8.1.0)\n",
            "Requirement already satisfied: threadpoolctl>=2.0.0 in /usr/local/lib/python3.8/dist-packages (from scikit-learn>=0.22.2.post1->bertopic) (3.1.0)\n",
            "Requirement already satisfied: sentencepiece in /usr/local/lib/python3.8/dist-packages (from sentence-transformers>=0.4.1->bertopic) (0.1.97)\n",
            "Requirement already satisfied: huggingface-hub>=0.4.0 in /usr/local/lib/python3.8/dist-packages (from sentence-transformers>=0.4.1->bertopic) (0.11.1)\n",
            "Requirement already satisfied: torch>=1.6.0 in /usr/local/lib/python3.8/dist-packages (from sentence-transformers>=0.4.1->bertopic) (1.13.0+cu116)\n",
            "Requirement already satisfied: nltk in /usr/local/lib/python3.8/dist-packages (from sentence-transformers>=0.4.1->bertopic) (3.7)\n",
            "Requirement already satisfied: torchvision in /usr/local/lib/python3.8/dist-packages (from sentence-transformers>=0.4.1->bertopic) (0.14.0+cu116)\n",
            "Requirement already satisfied: transformers<5.0.0,>=4.6.0 in /usr/local/lib/python3.8/dist-packages (from sentence-transformers>=0.4.1->bertopic) (4.25.1)\n",
            "Requirement already satisfied: filelock in /usr/local/lib/python3.8/dist-packages (from huggingface-hub>=0.4.0->sentence-transformers>=0.4.1->bertopic) (3.8.0)\n",
            "Requirement already satisfied: requests in /usr/local/lib/python3.8/dist-packages (from huggingface-hub>=0.4.0->sentence-transformers>=0.4.1->bertopic) (2.23.0)\n",
            "Requirement already satisfied: packaging>=20.9 in /usr/local/lib/python3.8/dist-packages (from huggingface-hub>=0.4.0->sentence-transformers>=0.4.1->bertopic) (21.3)\n",
            "Requirement already satisfied: typing-extensions>=3.7.4.3 in /usr/local/lib/python3.8/dist-packages (from huggingface-hub>=0.4.0->sentence-transformers>=0.4.1->bertopic) (4.4.0)\n",
            "Requirement already satisfied: pyparsing!=3.0.5,>=2.0.2 in /usr/local/lib/python3.8/dist-packages (from packaging>=20.9->huggingface-hub>=0.4.0->sentence-transformers>=0.4.1->bertopic) (3.0.9)\n",
            "Requirement already satisfied: regex!=2019.12.17 in /usr/local/lib/python3.8/dist-packages (from transformers<5.0.0,>=4.6.0->sentence-transformers>=0.4.1->bertopic) (2022.6.2)\n",
            "Requirement already satisfied: tokenizers!=0.11.3,<0.14,>=0.11.1 in /usr/local/lib/python3.8/dist-packages (from transformers<5.0.0,>=4.6.0->sentence-transformers>=0.4.1->bertopic) (0.13.2)\n",
            "Requirement already satisfied: numba>=0.49 in /usr/local/lib/python3.8/dist-packages (from umap-learn>=0.5.0->bertopic) (0.56.4)\n",
            "Requirement already satisfied: pynndescent>=0.5 in /usr/local/lib/python3.8/dist-packages (from umap-learn>=0.5.0->bertopic) (0.5.8)\n",
            "Requirement already satisfied: importlib-metadata in /usr/local/lib/python3.8/dist-packages (from numba>=0.49->umap-learn>=0.5.0->bertopic) (4.13.0)\n",
            "Requirement already satisfied: setuptools in /usr/local/lib/python3.8/dist-packages (from numba>=0.49->umap-learn>=0.5.0->bertopic) (57.4.0)\n",
            "Requirement already satisfied: llvmlite<0.40,>=0.39.0dev0 in /usr/local/lib/python3.8/dist-packages (from numba>=0.49->umap-learn>=0.5.0->bertopic) (0.39.1)\n",
            "Requirement already satisfied: zipp>=0.5 in /usr/local/lib/python3.8/dist-packages (from importlib-metadata->numba>=0.49->umap-learn>=0.5.0->bertopic) (3.11.0)\n",
            "Requirement already satisfied: click in /usr/local/lib/python3.8/dist-packages (from nltk->sentence-transformers>=0.4.1->bertopic) (7.1.2)\n",
            "Requirement already satisfied: certifi>=2017.4.17 in /usr/local/lib/python3.8/dist-packages (from requests->huggingface-hub>=0.4.0->sentence-transformers>=0.4.1->bertopic) (2022.9.24)\n",
            "Requirement already satisfied: chardet<4,>=3.0.2 in /usr/local/lib/python3.8/dist-packages (from requests->huggingface-hub>=0.4.0->sentence-transformers>=0.4.1->bertopic) (3.0.4)\n",
            "Requirement already satisfied: urllib3!=1.25.0,!=1.25.1,<1.26,>=1.21.1 in /usr/local/lib/python3.8/dist-packages (from requests->huggingface-hub>=0.4.0->sentence-transformers>=0.4.1->bertopic) (1.24.3)\n",
            "Requirement already satisfied: idna<3,>=2.5 in /usr/local/lib/python3.8/dist-packages (from requests->huggingface-hub>=0.4.0->sentence-transformers>=0.4.1->bertopic) (2.10)\n",
            "Requirement already satisfied: pillow!=8.3.*,>=5.3.0 in /usr/local/lib/python3.8/dist-packages (from torchvision->sentence-transformers>=0.4.1->bertopic) (7.1.2)\n"
          ]
        },
        {
          "output_type": "display_data",
          "data": {
            "text/plain": [
              "Batches:   0%|          | 0/1 [00:00<?, ?it/s]"
            ],
            "application/vnd.jupyter.widget-view+json": {
              "version_major": 2,
              "version_minor": 0,
              "model_id": "ec88bf33902f4386942387f4ce2fdfba"
            }
          },
          "metadata": {}
        },
        {
          "output_type": "stream",
          "name": "stderr",
          "text": [
            "2022-12-11 22:19:07,878 - BERTopic - Transformed documents to Embeddings\n",
            "2022-12-11 22:19:10,975 - BERTopic - Reduced dimensionality\n",
            "2022-12-11 22:19:10,992 - BERTopic - Clustered reduced embeddings\n"
          ]
        },
        {
          "output_type": "execute_result",
          "data": {
            "text/plain": [
              "[-1, -1, -1, -1, -1, -1, -1, -1, -1, -1]"
            ]
          },
          "metadata": {},
          "execution_count": 33
        }
      ],
      "source": [
        "# Bertopic\n",
        "!pip install bertopic\n",
        "from bertopic import BERTopic\n",
        "\n",
        "topic_model = BERTopic(language=\"english\", calculate_probabilities=True, verbose=True)\n",
        "topics, probs = topic_model.fit_transform(data)\n",
        "\n",
        "# Extracting topics\n",
        "\n",
        "freq = topic_model.get_topic_info(); freq.head(5)\n",
        "\n",
        "# Top 10 Topics\n",
        "topic_model.topics_[:10]"
      ]
    },
    {
      "cell_type": "code",
      "source": [
        "freq = topic_model.get_topic_info(); freq.head(5)"
      ],
      "metadata": {
        "colab": {
          "base_uri": "https://localhost:8080/",
          "height": 128
        },
        "id": "WYFhOuEFMVCk",
        "outputId": "1b0f054f-31be-4c60-9522-2412f1eb5ac2"
      },
      "execution_count": 34,
      "outputs": [
        {
          "output_type": "execute_result",
          "data": {
            "text/plain": [
              "   Topic  Count              Name\n",
              "0     -1     17  -1_the_to_of_and"
            ],
            "text/html": [
              "\n",
              "  <div id=\"df-c287c1fd-6950-407a-b7e1-2dda93b5c3a4\">\n",
              "    <div class=\"colab-df-container\">\n",
              "      <div>\n",
              "<style scoped>\n",
              "    .dataframe tbody tr th:only-of-type {\n",
              "        vertical-align: middle;\n",
              "    }\n",
              "\n",
              "    .dataframe tbody tr th {\n",
              "        vertical-align: top;\n",
              "    }\n",
              "\n",
              "    .dataframe thead th {\n",
              "        text-align: right;\n",
              "    }\n",
              "</style>\n",
              "<table border=\"1\" class=\"dataframe\">\n",
              "  <thead>\n",
              "    <tr style=\"text-align: right;\">\n",
              "      <th></th>\n",
              "      <th>Topic</th>\n",
              "      <th>Count</th>\n",
              "      <th>Name</th>\n",
              "    </tr>\n",
              "  </thead>\n",
              "  <tbody>\n",
              "    <tr>\n",
              "      <th>0</th>\n",
              "      <td>-1</td>\n",
              "      <td>17</td>\n",
              "      <td>-1_the_to_of_and</td>\n",
              "    </tr>\n",
              "  </tbody>\n",
              "</table>\n",
              "</div>\n",
              "      <button class=\"colab-df-convert\" onclick=\"convertToInteractive('df-c287c1fd-6950-407a-b7e1-2dda93b5c3a4')\"\n",
              "              title=\"Convert this dataframe to an interactive table.\"\n",
              "              style=\"display:none;\">\n",
              "        \n",
              "  <svg xmlns=\"http://www.w3.org/2000/svg\" height=\"24px\"viewBox=\"0 0 24 24\"\n",
              "       width=\"24px\">\n",
              "    <path d=\"M0 0h24v24H0V0z\" fill=\"none\"/>\n",
              "    <path d=\"M18.56 5.44l.94 2.06.94-2.06 2.06-.94-2.06-.94-.94-2.06-.94 2.06-2.06.94zm-11 1L8.5 8.5l.94-2.06 2.06-.94-2.06-.94L8.5 2.5l-.94 2.06-2.06.94zm10 10l.94 2.06.94-2.06 2.06-.94-2.06-.94-.94-2.06-.94 2.06-2.06.94z\"/><path d=\"M17.41 7.96l-1.37-1.37c-.4-.4-.92-.59-1.43-.59-.52 0-1.04.2-1.43.59L10.3 9.45l-7.72 7.72c-.78.78-.78 2.05 0 2.83L4 21.41c.39.39.9.59 1.41.59.51 0 1.02-.2 1.41-.59l7.78-7.78 2.81-2.81c.8-.78.8-2.07 0-2.86zM5.41 20L4 18.59l7.72-7.72 1.47 1.35L5.41 20z\"/>\n",
              "  </svg>\n",
              "      </button>\n",
              "      \n",
              "  <style>\n",
              "    .colab-df-container {\n",
              "      display:flex;\n",
              "      flex-wrap:wrap;\n",
              "      gap: 12px;\n",
              "    }\n",
              "\n",
              "    .colab-df-convert {\n",
              "      background-color: #E8F0FE;\n",
              "      border: none;\n",
              "      border-radius: 50%;\n",
              "      cursor: pointer;\n",
              "      display: none;\n",
              "      fill: #1967D2;\n",
              "      height: 32px;\n",
              "      padding: 0 0 0 0;\n",
              "      width: 32px;\n",
              "    }\n",
              "\n",
              "    .colab-df-convert:hover {\n",
              "      background-color: #E2EBFA;\n",
              "      box-shadow: 0px 1px 2px rgba(60, 64, 67, 0.3), 0px 1px 3px 1px rgba(60, 64, 67, 0.15);\n",
              "      fill: #174EA6;\n",
              "    }\n",
              "\n",
              "    [theme=dark] .colab-df-convert {\n",
              "      background-color: #3B4455;\n",
              "      fill: #D2E3FC;\n",
              "    }\n",
              "\n",
              "    [theme=dark] .colab-df-convert:hover {\n",
              "      background-color: #434B5C;\n",
              "      box-shadow: 0px 1px 3px 1px rgba(0, 0, 0, 0.15);\n",
              "      filter: drop-shadow(0px 1px 2px rgba(0, 0, 0, 0.3));\n",
              "      fill: #FFFFFF;\n",
              "    }\n",
              "  </style>\n",
              "\n",
              "      <script>\n",
              "        const buttonEl =\n",
              "          document.querySelector('#df-c287c1fd-6950-407a-b7e1-2dda93b5c3a4 button.colab-df-convert');\n",
              "        buttonEl.style.display =\n",
              "          google.colab.kernel.accessAllowed ? 'block' : 'none';\n",
              "\n",
              "        async function convertToInteractive(key) {\n",
              "          const element = document.querySelector('#df-c287c1fd-6950-407a-b7e1-2dda93b5c3a4');\n",
              "          const dataTable =\n",
              "            await google.colab.kernel.invokeFunction('convertToInteractive',\n",
              "                                                     [key], {});\n",
              "          if (!dataTable) return;\n",
              "\n",
              "          const docLinkHtml = 'Like what you see? Visit the ' +\n",
              "            '<a target=\"_blank\" href=https://colab.research.google.com/notebooks/data_table.ipynb>data table notebook</a>'\n",
              "            + ' to learn more about interactive tables.';\n",
              "          element.innerHTML = '';\n",
              "          dataTable['output_type'] = 'display_data';\n",
              "          await google.colab.output.renderOutput(dataTable, element);\n",
              "          const docLink = document.createElement('div');\n",
              "          docLink.innerHTML = docLinkHtml;\n",
              "          element.appendChild(docLink);\n",
              "        }\n",
              "      </script>\n",
              "    </div>\n",
              "  </div>\n",
              "  "
            ]
          },
          "metadata": {},
          "execution_count": 34
        }
      ]
    },
    {
      "cell_type": "code",
      "source": [
        "topic_model.get_topic(-1)"
      ],
      "metadata": {
        "colab": {
          "base_uri": "https://localhost:8080/"
        },
        "id": "hCg69he9Soxx",
        "outputId": "3ea9ccd8-aeef-409b-ae74-0702bb240424"
      },
      "execution_count": 37,
      "outputs": [
        {
          "output_type": "execute_result",
          "data": {
            "text/plain": [
              "[('the', 0.16373167280347628),\n",
              " ('to', 0.11379042620286178),\n",
              " ('of', 0.09368024395482888),\n",
              " ('and', 0.08607478762231471),\n",
              " ('in', 0.07815135982118308),\n",
              " ('that', 0.05965248032525775),\n",
              " ('it', 0.048721878466175275),\n",
              " ('for', 0.04543851949244741),\n",
              " ('on', 0.038613100691242366),\n",
              " ('as', 0.038613100691242366)]"
            ]
          },
          "metadata": {},
          "execution_count": 37
        }
      ]
    },
    {
      "cell_type": "code",
      "source": [
        "topic_model.topics_[:10]"
      ],
      "metadata": {
        "colab": {
          "base_uri": "https://localhost:8080/"
        },
        "id": "eyXpdE9UTX2U",
        "outputId": "2978a07b-7209-4750-b467-a4378f449682"
      },
      "execution_count": 38,
      "outputs": [
        {
          "output_type": "execute_result",
          "data": {
            "text/plain": [
              "[-1, -1, -1, -1, -1, -1, -1, -1, -1, -1]"
            ]
          },
          "metadata": {},
          "execution_count": 38
        }
      ]
    },
    {
      "cell_type": "markdown",
      "source": [
        "I have used Bertopic algorithm for this task and got most frequently used words in the dataset provided. The probabilities of most used 10 words are shown in above cell. \n",
        "     Word Cloud results show that the most used words are related to finance. "
      ],
      "metadata": {
        "id": "BHIXQXMlWhqp"
      }
    },
    {
      "cell_type": "markdown",
      "metadata": {
        "id": "AfpMRCrRwN6Z"
      },
      "source": [
        "# **Question 2: Sentiment Analysis**"
      ]
    },
    {
      "cell_type": "markdown",
      "metadata": {
        "id": "1dCQEbDawWCw"
      },
      "source": [
        "(30 points). Sentiment analysis also known as opinion mining is a sub field within Natural Language Processing (NLP) that builds machine learning algorithms to classify a text according to the sentimental polarities of opinions it contains, e.g., positive, negative, neutral. The purpose of this question is to develop a machine learning classifier for sentiment analysis. Based on the dataset from assignment three, write a python program to implement a sentiment classifier and evaluate its performance. Notice: **80% data for training and 20% data for testing**.  \n",
        "\n",
        "(1) Features used for sentiment classification and explain why you select these features.\n",
        "\n",
        "(2) Select two of the supervised learning algorithm from scikit-learn library: https://scikit-learn.org/stable/supervised_learning.html#supervised-learning, to build a sentiment classifier respectively. Note: Cross-validation (5-fold or 10-fold) should be conducted. Here is the reference of cross-validation: https://scikit-learn.org/stable/modules/cross_validation.html.\n",
        "\n",
        "(3) Compare the performance over accuracy, precision, recall, and F1 score for the two algorithms you selected. Here is the reference of how to calculate these metrics: https://towardsdatascience.com/accuracy-precision-recall-or-f1-331fb37c5cb9. "
      ]
    },
    {
      "cell_type": "code",
      "execution_count": 44,
      "metadata": {
        "id": "vATjQNTY8buA"
      },
      "outputs": [],
      "source": [
        "# Write your code here\n",
        "from transformers import AutoModelForSequenceClassification, AutoTokenizer\n",
        "from sklearn.model_selection import train_test_split\n",
        "model_path = 'distilbert-base-uncased-finetuned-sst-2-english'\n",
        "nli_model = AutoModelForSequenceClassification.from_pretrained(model_path)\n",
        "tokenizer = AutoTokenizer.from_pretrained(model_path, num_labels=2)\n",
        "\n",
        "\n",
        "df_train, df_test = train_test_split(data, test_size=0.2, random_state=42)\n",
        "df_val, df_test = train_test_split(df_test, test_size=0.5, random_state=42)\n",
        "\n"
      ]
    },
    {
      "cell_type": "code",
      "source": [
        "df_train"
      ],
      "metadata": {
        "colab": {
          "base_uri": "https://localhost:8080/"
        },
        "id": "-h2Px_QXl9Hs",
        "outputId": "a08e0b38-48ee-44ad-adb8-4eba10637cd4"
      },
      "execution_count": 75,
      "outputs": [
        {
          "output_type": "execute_result",
          "data": {
            "text/plain": [
              "['b\"Square Will Replace Meters in Washington Taxis: Washington, D.C., is enlisting Square Inc. s help as its taxi commission tries to help the city s cabbies compete with Uber drivers. By the end of August, all of the taxis in Washington have to tear out their traditional meters and start using smartphones or tablets, in what the city government has been describing as a complete reimagining of how the cab system works. For Square, the deal reflects an increasing focus on becoming the payment platform for a range of other company\\'s mobile applications, websites and point-of-sale devices. No money is changing hands between the company and the city. Square agreed to satisfy the department s requirement that drivers give up no more than 2.65 percent of their fares in transaction fees, according to the department. That s lower than the standard 2.75 commission it usually takes and significantly less than the 3.5 percent to 5 percent commission that drivers currently pay to use the mechanical meters, according to Ernest Chrappah, the director of the city\\'s taxi regulator.  Chrappah said the lower fees will help make it easier for cabbies to sustain themselves. But the bigger changes come in the increased flexibility that taxi drivers will have once they re untethered from mechanical meters. There won t be a single taxi app. Instead, the department is asking developers to build apps, which it will then certify for use by licensed taxi drivers. It is currently working with seven developers, who will make their apps public between now the deadline to replace the meters. It will continue to consider adding new apps as developers pitch them. All of the certified apps must be able to operate as meters for street hails. They ll also be able to provide digital receipts showing the route they took and give riders the option to rate drivers. Developers can also build services like carpooling or delivery systems that will connect drivers to local merchants looking for people to drop off food, groceries or other products. A developer could build an Uber clone, creating a way to connect drivers to passengers requesting rides through an app. The exact contours of these services will become clear as the individual developers release their software. Taxis will also be able to offer dynamic pricing, where drivers can give discounts during periods when they have trouble securing fares. This resembles Uber s practice of charging more when demand rises as a way to coax drivers onto the road, only in reverse. Drivers won t have the option to increase their fares.\"\\n',\n",
              " 'b\\'Hardly Anyone Paying the Hackers  Because Using Bitcoin Is Hard: An unprecedented cyberattack swept across the globe over the weekend, but so far the majority of victims haven t paid hackers a ransom. After the ransomware began infecting users on Friday, they were given 72 hours to pay $300 in bitcoin -- chosen by the hackers because the crypto currency is harder to track than conventional payments -- or pay twice as much. If they refused to pay after seven days, their computer would be permanently locked -- a serious problem for those who haven t backed up their data. As of early Monday, only about $50,000 had been paid in ransoms, according to Elliptic Enterprises Ltd., a London-based company that tracks illicit use of bitcoin. The company calculated the total based on payments tracked to bitcoin addresses specified in the ransom demands, adding that it expects the total to rise.  Paying a ransom isn t like buying something from Amazon by entering their credit or debit card information. Even though the hackers provided a helpful link for those new to paying in bitcoin, the crypto currency is a black box for most people. \"If you re presented with something that says pay this amount in bitcoin, most people don t know where to start with that,\" said James Smith, the CEO and co-founder of Elliptic. There are several steps. First, a person or business has to obtain the bitcoins by registering with one of the various online exchanges and going through its verification process. After that, money can be deposited into the exchange. For those living in countries that don t have an exchange, including the U.K., money must be converted into another currency. Once the money is deposited on the exchange, the bitcoins can be sent to the address provided by the extortionist. \"It looks like a long garbled string of text,\" Smith said. After the fee is paid, the hackers supposedly free the affected computer. \"A large amount of bitcoin is actually somewhat difficult to source quickly,\" said Alex Sunnarborg, an analyst at bitcoin research company CoinDesk, adding it might take a few days to create an account at a bitcoin brokerage or exchange, connect a bank account, and then receive the bitcoin. One notable difference with this attack is that the perpetrators demanded a relatively small amount of money but from a large number of people, said James Chappell, chief technology officer and co-founder of U.K. security company Digital Shadows. More typically, he said, hackers demand one large ransom to unlock all the infected machines. \"Quite often they re in the thousands rather than the hundreds of dollars,\" he said. \"It is unusual to see this piecemeal approach, computer by computer.\"\\'\\n',\n",
              " \"b'Paytm raises $1.4 billion from SoftBank, valuation soars to $7 billion: Paytm has raised $1.4 billion from SoftBank Group Corp. in the largest funding round by a single investor in India, making the digital payments firm the Japanese company s biggest bet in India s start-up ecosystem. The deal includes $400 million worth of shares that SoftBank will buy largely from Paytm s early investor SAIF Partners in a secondary transaction, and a minor stake from founder Vijay Shekhar Sharma, according to two persons close to the development. The deal values the company at about $7 billion post-money (including the investment) and will take SoftBank s stake to about 20%, the two people said, requesting anonymity. Paytm, India s second-most valuable internet firm, will use the money to acquire 500 million new customers and launch a slew of financial services products such as wealth management, insurance and deposits and loans.  This business will require a lot of capital before it can start generating cash and hence we need long-term investors like SoftBank and Alibaba,  founder Sharma said in a telephone interview.'\\n\",\n",
              " \"b'Uber Engineer Barred From Work on Key Self-Driving Technology, Judge Says: Uber, the ride-hailing company, sidestepped a full shutdown of its self-driving car efforts on Monday when a federal judge stopped short of issuing a temporary injunction against the program. But the court mandated that Anthony Levandowski, a star engineer leading the program, be prohibited from working on a critical component of autonomous vehicle technology for the duration of the litigation, a setback that could hamper Uber s development efforts. The decision was in a case that has underlined the increasingly bitter fight between Uber and Waymo, the self-driving car business that operates under Google s parent company. The companies have been competing in the development of autonomous vehicles, which many consider the future of transportation. The outcome of the case may affect who wins or loses in the technology, which has also drawn other tech companies, automakers and start-ups. In the ruling on Monday, Judge William Alsup of Federal District Court in San Francisco, said,  Waymo L.L.C. has shown compelling evidence that its former star engineer, Anthony Levandowski, downloaded over 14,000 confidential files from Waymo immediately before leaving his employment there.  He added,  Significantly, the evidence indicates that, during the acquisition, Uber likely knew or at least should have known that Levandowski had taken and retained possession of Waymo s confidential files.  Judge Alsup also ruled that Waymo significantly  overreached  when it asked for protection on more than 120 patents it called trade secrets.  General approaches dictated by well-known principles of physics, however, are not  secret,  since they consist essentially of general engineering principles that are simply part of the intellectual equipment of technical employees,  Judge Alsup wrote. He directed Uber to produce a timeline of the events leading to Mr. Levandowski s hiring, including all oral and written discussions between the parties about an important self-driving technology called lidar, short for light detection and ranging, which Mr. Levandowski has been accused of stealing. The judge also ordered Uber to do what it could to ensure the return of the files to Waymo, including the possibility of terminating Mr. Levandowski s employment at Uber.Despite the judge s ruling on Mr. Levandowski, Uber also had cause for celebration because its self-driving research program was not shut down, which would have been a more serious blow.'\\n\",\n",
              " \"b'Pittsburgh Welcomed Uber s Driverless Car Experiment. Not Anymore. When Uber picked this former Rust Belt town as the inaugural city for its driverless car experiment, Pittsburgh played the consummate host.  You can either put up red tape or roll out the red carpet,  Bill Peduto, the mayor of Pittsburgh, said in September.  If you want to be a 21st-century laboratory for technology, you put out the carpet.  Nine months later, Pittsburgh residents and officials say Uber has not lived up to its end of the bargain. Among Uber s perceived transgressions: The company began charging for driverless rides that were initially pitched as free. It also withdrew support from Pittsburgh s application for a $50 million federal grant to revamp transportation. And it has not created the jobs it proposed in a struggling neighborhood that houses its autonomous car testing track. The deteriorating relationship between Pittsburgh and Uber offers a cautionary tale, especially as other cities consider rolling out driverless car trials from Uber, Alphabet s Waymo and others.'\\n\",\n",
              " \"b'Walmart Reports 63% Rise in Online Sales: On Thursday, the company said e-commerce sales had grown 63 percent in the United States in the latest quarter. The unexpected leap offered the strongest evidence yet that Walmart, the country s largest retailer, is making headway in its effort to be as prominent online as it is across the American landscape. Walmart s latest strategy, put in place by its current chief executive, Doug McMillon, has several parts: expand the number of products available online, better leverage its huge physical warehouses and distribution centers to reach customers quickly across the country, and aggressively pursue deals for online stores. The biggest of those deals, in which Walmart paid $3.3 billion for the bulk e-commerce retailer Jet.com last year, was part of the plan to offer customers more products through the web. The earnings results on Thursday gave only hints of about how much the acquisitions gave the company a one-time bump in sales, rather than long-lasting fruit from other changes the company has made. Comparable-store sales, one measure of growth that looks at stores that have been open for at least a year, rose 1.4 percent. That number includes Walmart s core online business, but not items sold through Jet.com. Walmart completed its purchase of Jet in September. Smaller digital acquisitions followed, including ModCloth, a women s clothing retailer, and the outdoor apparel site Moosejaw. The deal for Jet was also widely seen as a play for its founder, Marc Lore, a serial digital entrepreneur who could help fix Walmart s online strategy. Mr. Lore was put in charge of running Walmart.com after the acquisition, spearheading the face-off between the world s largest brick-and-mortar retailer and its biggest online competitor.'\\n\",\n",
              " 'b\"Alphabet s self-driving unit Waymo is teaming up with Lyft: Waymo, the self-driving unit of Google parent company Alphabet, is teaming up with Lyft to work on bringing autonomous vehicle efforts to market, the New York Times reports. Details on what this partnership entails remain a little fuzzy, but sources told Times reporter Mike Isaac the two companies would be working together on pilot projects and product development efforts. That\\'s another way of saying Lyft users in some markets will likely be able to hail a Waymo self-driving car in a limited test sometime down the road. This is not Lyft s only partnership aimed at bringing self-driving technology into the mainstream. Lyft has a partnership with GM, which last year acquired self-driving startup Cruise. Alphabet was also experimenting with its own ride-hailing app   which the company has been using in its first pilot program in Arizona. But it\\'s not likely the company would solely depend on either that app or the ride-matching service Waze, another Alphabet subsidiary, has been experimenting with to give consumers access to self-driving cars. That s largely due to the difficulty of gaining market share in the already crowded ride-hail industry   an issue Lyft, the perennial runner up to Uber, knows all too well. The relationship between Uber and Alphabet has gone from tense to combative in the past year. It was long-rumored that the two players would work together on an network of autonomous cars but Uber decided to navigate that road on its own making a competitor of Alphabet as both companies vyed for automaker partnerships. This is just the latest in a series of blows to Uber s and Waymo s once potentially fruitful relationship.\"\\n',\n",
              " \"b'Why Did a Chinese Peroxide Company Pay $1 Billion for a Talking Cat  Even by the opaque standards of Chinese mergers and acquisitions, the deal was a head-scratcher. It s hard to see the synergies between a maker of chemical solvents and a digital cat perched over a toilet. And curiously, the buyer, which had recently been renamed Zhejiang Jinke Entertainment Culture Co., had revenue of only $133 million in 2016, according to Bloomberg data pulled from regulatory filings, and its gross profit was $55 million. Jinke won t say where the money to buy Outfit7 came from. Talking Tom is not alone. There s been a recent flurry of oddball pairings between Chinese industrial interests and Western entertainment companies. A real estate magnate in Beijing bought Legendary Entertainment, the movie studio that made the Dark Knight trilogy, for $3.5 billion. A maker of construction materials bought Framestore, the company behind the special effects in the Harry Potter films. Zhejiang Dragon Pipe Manufacturing Co. acquired app developer Entertainment Game Labs. And perhaps strangest of all, Digital Extremes Ltd., which created an alien battle game, and the studio Splash Damage Ltd., which made an offshoot of the Xbox hit Gears of War, were bought by an enormous Chinese poultry processor. According to CODE Advisors LLC, an investment bank that specializes in media and technology deals, 70 percent of all acquisitions of game companies since 2015 have been by Chinese buyers. Samo, for one, isn t stopping to ask questions. A vegan, he s using his windfall to start a food-sustainability foundation.  It s not easy,  he says,  to find buyers for a $1 billion company.  The deal activity can best be understood as a consequence of quirks in the Chinese stock market. In China, industrial companies trade at valuations they d never receive elsewhere in the world. Affan Butt, an investment banker who helped facilitate the sale of Jagex, says some may trade at as much as 100 times their annual earnings more than four times the multiple of General Electric Co. This means they can acquire companies at what is effectively a discount. A target like Jagex is worth more once it s part of a Chinese-listed company, allowing the acquirer to pay prices that appear bafflingly high to the rest of the world. '\\n\",\n",
              " \"b'Alibaba Profit Lags Estimates on Tax as Sales Defy Slowdown: Alibaba Group Holding Ltd. s earnings lagged estimates after it swallowed a higher tax bill and splurged on the entertainment and cloud computing businesses that are fueling revenue growth. The shares dropped the most in almost a year. China s biggest e-commerce company posted adjusted earnings-per-share of 4.35 yuan, missing the 4.51 yuan average of estimates compiled by Bloomberg. That came even as revenue rose at a faster-than-expected 60 percent to 38.6 billion yuan ($5.6 billion). Core commerce revenue surged 47 percent to 31.57 billion yuan with the business delivering operating income of 16.5 billion yuan, the company said. While cloud unit revenue doubled in the March quarter to 2.2 billion yuan, the business had an operating loss of 505 million yuan as it slashes prices to snatch market share from Amazon.com Inc. and Tencent. Revenue from digital entertainment more than tripled to 3.9 billion yuan with an operating loss of 2.6 billion yuan as it spends on content for video site Youku Tudou and other platforms. Income tax expenses soared 149 percent to 4.6 billion yuan in the March quarter. Its effective tax rate climbed to 29 percent from 23 percent a year earlier.'\\n\",\n",
              " 'b\"Cisco revenue forecast disappoints; says to cut 1,100 more jobs: Cisco forecast current-quarter revenue that widely missed analysts\\' estimates and said it would cut 1,100 more jobs, as the world\\'s largest networking gear maker steps up efforts to transform into a software-focused company. Shares of the Dow component fell 8.2 percent to $31.05 in after-market trading on Wednesday. The stock had closed down 1.4 percent in regular trading, compared with the 1.78 percent slump in the index. Revenue in its closely-watched security business, which offers firewall protection and breach detection systems, rose 9 percent to $527 million, but missed analysts\\' estimate of $545.5 million, according to financial data and analytics firm FactSet Street Account. Cisco, like other legacy technology players, is shifting its focus to high-growth areas such as security, the Internet of Things and cloud computing, amid intense competition from companies such as Huawei and Juniper. The company\\'s net income rose to $2.52 billion, or 50 cents per share, in the third quarter ended April 29 from $2.35 billion, or 46 cents per share, a year earlier. Revenue fell 0.5 percent to $11.94 billion.\"\\n',\n",
              " \"b'As self-driving cars hit the road, real estate development may take new direction: The much-hyped transition to autonomous cars, while still years, or even decades, away, according to experts, is an opportunity and challenge that has wide potential to reshape our transportation systems. But many believe that as city planners, transportation officials, and, eventually, developers start grappling with the changes to come, autonomous vehicles  potential to reshape real estate, development, and city planning will rival that of the introduction of the automobile. At the American Planning Association s annual conference earlier this month in New York City, the issue of autonomous vehicles and driverless cars, one admittedly far in the future, was the subject of numerous present-day panels, discussions, and debates. [An expert] sees two small but significant changes affecting urban real estate development in the age of driverless cars. A reduced need for parking may be the most significant. High-value property in urban areas needs to account for mandatory parking allowances, forcing developers to factor the cost of parking spaces into construction costs and rent. Local government will need to act decisively to regulate drop-off lanes, speeds, and new parking rules before market forces, and other governments, begin making decisions for them. Technology firms shouldn t reap the rewards after cities make the investments necessary to adapt to a new transportation reality.'\\n\",\n",
              " 'b\\'LeEco employees are being called to a Tuesday meeting, and massive layoffs are expected: LeEco, a Chinese company that made a big splash in the U.S. last fall, is preparing for a round of layoffs that may happen as soon as Tuesday, according to sources. Two people told CNBC the company is planning massive layoffs in the U.S., with one source saying that only 60 employees will be left after the cut. The company\\\\\\'s current headcount in the U.S. is over 500, according to this person. LeEco started out in China as a streaming media provider   it has been referred to as the \"Netflix of China\"   and looked to expand into the US by selling affordable hardware that linked consumers to media content from LeEco\\\\\\'s partners. Its first batch of products included two smartphones and several TVs, all of which offered flagship-level specs at affordable prices. The idea, it seemed, was that LeEco would make its money back when consumers tuned in to partner programming. When it made its debut in the US in October 2016, it also promised more, including VR headsets and an electric bicycle.\\'\\n',\n",
              " 'b\"Softbank-Saudi tech fund becomes world\\'s biggest with $93 billion of capital: The world\\'s largest private equity fund, backed by Japan\\'s Softbank Group and Saudi Arabia\\'s main sovereign wealth fund, said on Saturday it had raised over $93 billion to invest in technology sectors such as artificial intelligence and robotics. Japanese billionaire Masayoshi Son, chairman of Softbank, a telecommunications and tech investment group, revealed plans for the fund last October and since then it has obtained commitments from some of the world\\'s most deep-pocketed investors.  In addition to Softbank and Saudi Arabia\\'s Public Investment Fund (PIF), the new fund\\'s investors include Abu Dhabi\\'s Mubadala Investment, which has committed $15 billion, Apple Inc, Qualcomm, Taiwan\\'s Foxconn Technology and Japan\\'s Sharp Corp. The new fund made its announcement during the visit of President Donald Trump to Riyadh and the signing of tens of billions of dollars worth of business deals between U.S. and Saudi companies. Son was also in Riyadh on Saturday. After meeting with Trump last December, Son pledged $50 billion of investment in the United States that would create 50,000 jobs, a promise Trump claimed was a direct result of his election win. The fund may also serve the interests of Saudi Arabia by helping Riyadh obtain access to foreign technology. The Saudi economy has been severely damaged by low oil prices, and policymakers are trying to diversify into new industries.\"\\n']"
            ]
          },
          "metadata": {},
          "execution_count": 75
        }
      ]
    },
    {
      "cell_type": "code",
      "source": [
        "def tokenize_df(tokenizer, data, has_label=True):\n",
        "\n",
        " \n",
        "        #returns dictionary with keys: input_ids, attention_mask)\n",
        "        encoding_dict = tokenizer(data, padding=\"max_length\", max_length=64,\n",
        "                                  truncation=True, return_token_type_ids=False)\n",
        "        #add 'label' key if we are making train or validation data\n",
        "        # if has_label: \n",
        "        #     encoding_dict['label'] = df['Label'].tolist()\n",
        "        #convert dictionary of lists into list of dictionaries\n",
        "        return [dict(zip(encoding_dict, t)) for t in zip(*encoding_dict.values())]\n",
        "\n",
        "#apply above function to create lists to use for our data:\n",
        "X_train_tokenized = tokenize_df(tokenizer, df_train)\n",
        "X_val_tokenized = tokenize_df(tokenizer, df_val)\n",
        "X_test_tokenized = tokenize_df(tokenizer, df_test, has_label=False)\n",
        "train_dataset = X_train_tokenized\n",
        "eval_dataset = X_val_tokenized\n",
        "test_dataset = X_test_tokenized"
      ],
      "metadata": {
        "id": "Ho3ekjBJYCaj"
      },
      "execution_count": 46,
      "outputs": []
    },
    {
      "cell_type": "code",
      "source": [
        "print(eval_dataset)"
      ],
      "metadata": {
        "colab": {
          "base_uri": "https://localhost:8080/"
        },
        "id": "aj9jEBUBlEbd",
        "outputId": "164ab83d-c84f-46be-a0bf-27273785c1f6"
      },
      "execution_count": 72,
      "outputs": [
        {
          "output_type": "stream",
          "name": "stdout",
          "text": [
            "[{'input_ids': [101, 1038, 1000, 3730, 9299, 1005, 1055, 1002, 2531, 4551, 6627, 4636, 4635, 4244, 18315, 2015, 2004, 26004, 2015, 2061, 2906, 1024, 1999, 1996, 2706, 2144, 3730, 9299, 2177, 13058, 1012, 11521, 3488, 2005, 1037, 1002, 2531, 4551, 2974, 4636, 1010, 1996, 2887, 2194, 2038, 2042, 2437, 2049, 3739, 6171, 2371, 2408, 1996, 3068, 1012, 1996, 4432, 4636, 2701, 1037, 2261, 2420, 3283, 102], 'attention_mask': [1, 1, 1, 1, 1, 1, 1, 1, 1, 1, 1, 1, 1, 1, 1, 1, 1, 1, 1, 1, 1, 1, 1, 1, 1, 1, 1, 1, 1, 1, 1, 1, 1, 1, 1, 1, 1, 1, 1, 1, 1, 1, 1, 1, 1, 1, 1, 1, 1, 1, 1, 1, 1, 1, 1, 1, 1, 1, 1, 1, 1, 1, 1, 1]}, {'input_ids': [101, 1038, 1000, 4283, 999, 2030, 4283, 1012, 8224, 2097, 22701, 4081, 10373, 14054, 2000, 2115, 18394, 1012, 2065, 2017, 2224, 8224, 1005, 1055, 20917, 4014, 10439, 1010, 2017, 2089, 2031, 2464, 2242, 2047, 3769, 2039, 2006, 2115, 3898, 2023, 2733, 1024, 4081, 10960, 2005, 2115, 22028, 1012, 1996, 2693, 24899, 2028, 2126, 2008, 8224, 2003, 2478, 2049, 3445, 3579, 2006, 7976, 4454, 102], 'attention_mask': [1, 1, 1, 1, 1, 1, 1, 1, 1, 1, 1, 1, 1, 1, 1, 1, 1, 1, 1, 1, 1, 1, 1, 1, 1, 1, 1, 1, 1, 1, 1, 1, 1, 1, 1, 1, 1, 1, 1, 1, 1, 1, 1, 1, 1, 1, 1, 1, 1, 1, 1, 1, 1, 1, 1, 1, 1, 1, 1, 1, 1, 1, 1, 1]}]\n"
          ]
        }
      ]
    },
    {
      "cell_type": "code",
      "source": [
        "import torch\n",
        "device = torch.device(\"cuda\") if torch.cuda.is_available() else torch.device(\"cpu\")\n",
        "nli_model.to(device)\n",
        "print(f'Using {device}')"
      ],
      "metadata": {
        "colab": {
          "base_uri": "https://localhost:8080/"
        },
        "id": "R3nFdB8LYkgR",
        "outputId": "d80f7d0c-671e-42c6-d2a3-7a8b8c32be12"
      },
      "execution_count": 47,
      "outputs": [
        {
          "output_type": "stream",
          "name": "stdout",
          "text": [
            "Using cpu\n"
          ]
        }
      ]
    },
    {
      "cell_type": "code",
      "source": [
        "from transformers import TrainingArguments, Trainer\n",
        "from sklearn.metrics import precision_recall_fscore_support, accuracy_score\n",
        "def compute_metrics(pred):\n",
        "    labels = pred.label_ids\n",
        "    preds = pred.predictions.argmax(-1)\n",
        "    precision, recall, f1, _ = precision_recall_fscore_support(labels, preds, average='binary')\n",
        "    acc = accuracy_score(labels, preds)\n",
        "    return {'accuracy': acc,\n",
        "            'f1': f1,\n",
        "            'precision': precision,\n",
        "            'recall': recall}\n",
        "\n",
        "training_args = TrainingArguments(\n",
        "                output_dir=\"/content\",\n",
        "                label_names = [],\n",
        "                learning_rate=1e-4,\n",
        "                num_train_epochs=2, \n",
        "                report_to=\"none\",\n",
        "                evaluation_strategy=\"steps\", \n",
        "                eval_steps=10,\n",
        "                save_steps=10,\n",
        "                logging_steps=10,\n",
        "                load_best_model_at_end=True\n",
        "                )\n",
        "trainer = Trainer(\n",
        "    model=nli_model,\n",
        "    args=training_args,\n",
        "    train_dataset=train_dataset,\n",
        "    eval_dataset=eval_dataset,\n",
        "    compute_metrics=compute_metrics)\n",
        "    # callbacks=[EarlyStoppingCallback(early_stopping_patience=4)])\n",
        "trainer.train()"
      ],
      "metadata": {
        "id": "Wyow4lPnYqDm"
      },
      "execution_count": null,
      "outputs": []
    },
    {
      "cell_type": "markdown",
      "metadata": {
        "id": "E5mmYIfN8eYV"
      },
      "source": [
        "# **Question 3: House price prediction**"
      ]
    },
    {
      "cell_type": "markdown",
      "metadata": {
        "id": "hsi2y4z88ngX"
      },
      "source": [
        "(40 points). You are required to build a **regression** model to predict the house price with 79 explanatory variables describing (almost) every aspect of residential homes. The purpose of this question is to practice regression analysis, an supervised learning model. The training data, testing data, and data description files can be download from canvas. Here is an axample for implementation: https://towardsdatascience.com/linear-regression-in-python-predict-the-bay-areas-home-price-5c91c8378878. \n"
      ]
    },
    {
      "cell_type": "code",
      "execution_count": 55,
      "metadata": {
        "colab": {
          "base_uri": "https://localhost:8080/",
          "height": 300
        },
        "id": "XfvMKJjIXS5G",
        "outputId": "6d803b30-afef-45d7-859a-fc3c3c3cc67e"
      },
      "outputs": [
        {
          "output_type": "execute_result",
          "data": {
            "text/plain": [
              "   Id  MSSubClass MSZoning  LotFrontage  LotArea Street Alley LotShape  \\\n",
              "0   1          60       RL         65.0     8450   Pave   NaN      Reg   \n",
              "1   2          20       RL         80.0     9600   Pave   NaN      Reg   \n",
              "2   3          60       RL         68.0    11250   Pave   NaN      IR1   \n",
              "3   4          70       RL         60.0     9550   Pave   NaN      IR1   \n",
              "4   5          60       RL         84.0    14260   Pave   NaN      IR1   \n",
              "\n",
              "  LandContour Utilities  ... PoolArea PoolQC Fence MiscFeature MiscVal MoSold  \\\n",
              "0         Lvl    AllPub  ...        0    NaN   NaN         NaN       0      2   \n",
              "1         Lvl    AllPub  ...        0    NaN   NaN         NaN       0      5   \n",
              "2         Lvl    AllPub  ...        0    NaN   NaN         NaN       0      9   \n",
              "3         Lvl    AllPub  ...        0    NaN   NaN         NaN       0      2   \n",
              "4         Lvl    AllPub  ...        0    NaN   NaN         NaN       0     12   \n",
              "\n",
              "  YrSold  SaleType  SaleCondition  SalePrice  \n",
              "0   2008        WD         Normal     208500  \n",
              "1   2007        WD         Normal     181500  \n",
              "2   2008        WD         Normal     223500  \n",
              "3   2006        WD        Abnorml     140000  \n",
              "4   2008        WD         Normal     250000  \n",
              "\n",
              "[5 rows x 81 columns]"
            ],
            "text/html": [
              "\n",
              "  <div id=\"df-989a8deb-c1c6-41a7-b7ce-ece181a9c066\">\n",
              "    <div class=\"colab-df-container\">\n",
              "      <div>\n",
              "<style scoped>\n",
              "    .dataframe tbody tr th:only-of-type {\n",
              "        vertical-align: middle;\n",
              "    }\n",
              "\n",
              "    .dataframe tbody tr th {\n",
              "        vertical-align: top;\n",
              "    }\n",
              "\n",
              "    .dataframe thead th {\n",
              "        text-align: right;\n",
              "    }\n",
              "</style>\n",
              "<table border=\"1\" class=\"dataframe\">\n",
              "  <thead>\n",
              "    <tr style=\"text-align: right;\">\n",
              "      <th></th>\n",
              "      <th>Id</th>\n",
              "      <th>MSSubClass</th>\n",
              "      <th>MSZoning</th>\n",
              "      <th>LotFrontage</th>\n",
              "      <th>LotArea</th>\n",
              "      <th>Street</th>\n",
              "      <th>Alley</th>\n",
              "      <th>LotShape</th>\n",
              "      <th>LandContour</th>\n",
              "      <th>Utilities</th>\n",
              "      <th>...</th>\n",
              "      <th>PoolArea</th>\n",
              "      <th>PoolQC</th>\n",
              "      <th>Fence</th>\n",
              "      <th>MiscFeature</th>\n",
              "      <th>MiscVal</th>\n",
              "      <th>MoSold</th>\n",
              "      <th>YrSold</th>\n",
              "      <th>SaleType</th>\n",
              "      <th>SaleCondition</th>\n",
              "      <th>SalePrice</th>\n",
              "    </tr>\n",
              "  </thead>\n",
              "  <tbody>\n",
              "    <tr>\n",
              "      <th>0</th>\n",
              "      <td>1</td>\n",
              "      <td>60</td>\n",
              "      <td>RL</td>\n",
              "      <td>65.0</td>\n",
              "      <td>8450</td>\n",
              "      <td>Pave</td>\n",
              "      <td>NaN</td>\n",
              "      <td>Reg</td>\n",
              "      <td>Lvl</td>\n",
              "      <td>AllPub</td>\n",
              "      <td>...</td>\n",
              "      <td>0</td>\n",
              "      <td>NaN</td>\n",
              "      <td>NaN</td>\n",
              "      <td>NaN</td>\n",
              "      <td>0</td>\n",
              "      <td>2</td>\n",
              "      <td>2008</td>\n",
              "      <td>WD</td>\n",
              "      <td>Normal</td>\n",
              "      <td>208500</td>\n",
              "    </tr>\n",
              "    <tr>\n",
              "      <th>1</th>\n",
              "      <td>2</td>\n",
              "      <td>20</td>\n",
              "      <td>RL</td>\n",
              "      <td>80.0</td>\n",
              "      <td>9600</td>\n",
              "      <td>Pave</td>\n",
              "      <td>NaN</td>\n",
              "      <td>Reg</td>\n",
              "      <td>Lvl</td>\n",
              "      <td>AllPub</td>\n",
              "      <td>...</td>\n",
              "      <td>0</td>\n",
              "      <td>NaN</td>\n",
              "      <td>NaN</td>\n",
              "      <td>NaN</td>\n",
              "      <td>0</td>\n",
              "      <td>5</td>\n",
              "      <td>2007</td>\n",
              "      <td>WD</td>\n",
              "      <td>Normal</td>\n",
              "      <td>181500</td>\n",
              "    </tr>\n",
              "    <tr>\n",
              "      <th>2</th>\n",
              "      <td>3</td>\n",
              "      <td>60</td>\n",
              "      <td>RL</td>\n",
              "      <td>68.0</td>\n",
              "      <td>11250</td>\n",
              "      <td>Pave</td>\n",
              "      <td>NaN</td>\n",
              "      <td>IR1</td>\n",
              "      <td>Lvl</td>\n",
              "      <td>AllPub</td>\n",
              "      <td>...</td>\n",
              "      <td>0</td>\n",
              "      <td>NaN</td>\n",
              "      <td>NaN</td>\n",
              "      <td>NaN</td>\n",
              "      <td>0</td>\n",
              "      <td>9</td>\n",
              "      <td>2008</td>\n",
              "      <td>WD</td>\n",
              "      <td>Normal</td>\n",
              "      <td>223500</td>\n",
              "    </tr>\n",
              "    <tr>\n",
              "      <th>3</th>\n",
              "      <td>4</td>\n",
              "      <td>70</td>\n",
              "      <td>RL</td>\n",
              "      <td>60.0</td>\n",
              "      <td>9550</td>\n",
              "      <td>Pave</td>\n",
              "      <td>NaN</td>\n",
              "      <td>IR1</td>\n",
              "      <td>Lvl</td>\n",
              "      <td>AllPub</td>\n",
              "      <td>...</td>\n",
              "      <td>0</td>\n",
              "      <td>NaN</td>\n",
              "      <td>NaN</td>\n",
              "      <td>NaN</td>\n",
              "      <td>0</td>\n",
              "      <td>2</td>\n",
              "      <td>2006</td>\n",
              "      <td>WD</td>\n",
              "      <td>Abnorml</td>\n",
              "      <td>140000</td>\n",
              "    </tr>\n",
              "    <tr>\n",
              "      <th>4</th>\n",
              "      <td>5</td>\n",
              "      <td>60</td>\n",
              "      <td>RL</td>\n",
              "      <td>84.0</td>\n",
              "      <td>14260</td>\n",
              "      <td>Pave</td>\n",
              "      <td>NaN</td>\n",
              "      <td>IR1</td>\n",
              "      <td>Lvl</td>\n",
              "      <td>AllPub</td>\n",
              "      <td>...</td>\n",
              "      <td>0</td>\n",
              "      <td>NaN</td>\n",
              "      <td>NaN</td>\n",
              "      <td>NaN</td>\n",
              "      <td>0</td>\n",
              "      <td>12</td>\n",
              "      <td>2008</td>\n",
              "      <td>WD</td>\n",
              "      <td>Normal</td>\n",
              "      <td>250000</td>\n",
              "    </tr>\n",
              "  </tbody>\n",
              "</table>\n",
              "<p>5 rows × 81 columns</p>\n",
              "</div>\n",
              "      <button class=\"colab-df-convert\" onclick=\"convertToInteractive('df-989a8deb-c1c6-41a7-b7ce-ece181a9c066')\"\n",
              "              title=\"Convert this dataframe to an interactive table.\"\n",
              "              style=\"display:none;\">\n",
              "        \n",
              "  <svg xmlns=\"http://www.w3.org/2000/svg\" height=\"24px\"viewBox=\"0 0 24 24\"\n",
              "       width=\"24px\">\n",
              "    <path d=\"M0 0h24v24H0V0z\" fill=\"none\"/>\n",
              "    <path d=\"M18.56 5.44l.94 2.06.94-2.06 2.06-.94-2.06-.94-.94-2.06-.94 2.06-2.06.94zm-11 1L8.5 8.5l.94-2.06 2.06-.94-2.06-.94L8.5 2.5l-.94 2.06-2.06.94zm10 10l.94 2.06.94-2.06 2.06-.94-2.06-.94-.94-2.06-.94 2.06-2.06.94z\"/><path d=\"M17.41 7.96l-1.37-1.37c-.4-.4-.92-.59-1.43-.59-.52 0-1.04.2-1.43.59L10.3 9.45l-7.72 7.72c-.78.78-.78 2.05 0 2.83L4 21.41c.39.39.9.59 1.41.59.51 0 1.02-.2 1.41-.59l7.78-7.78 2.81-2.81c.8-.78.8-2.07 0-2.86zM5.41 20L4 18.59l7.72-7.72 1.47 1.35L5.41 20z\"/>\n",
              "  </svg>\n",
              "      </button>\n",
              "      \n",
              "  <style>\n",
              "    .colab-df-container {\n",
              "      display:flex;\n",
              "      flex-wrap:wrap;\n",
              "      gap: 12px;\n",
              "    }\n",
              "\n",
              "    .colab-df-convert {\n",
              "      background-color: #E8F0FE;\n",
              "      border: none;\n",
              "      border-radius: 50%;\n",
              "      cursor: pointer;\n",
              "      display: none;\n",
              "      fill: #1967D2;\n",
              "      height: 32px;\n",
              "      padding: 0 0 0 0;\n",
              "      width: 32px;\n",
              "    }\n",
              "\n",
              "    .colab-df-convert:hover {\n",
              "      background-color: #E2EBFA;\n",
              "      box-shadow: 0px 1px 2px rgba(60, 64, 67, 0.3), 0px 1px 3px 1px rgba(60, 64, 67, 0.15);\n",
              "      fill: #174EA6;\n",
              "    }\n",
              "\n",
              "    [theme=dark] .colab-df-convert {\n",
              "      background-color: #3B4455;\n",
              "      fill: #D2E3FC;\n",
              "    }\n",
              "\n",
              "    [theme=dark] .colab-df-convert:hover {\n",
              "      background-color: #434B5C;\n",
              "      box-shadow: 0px 1px 3px 1px rgba(0, 0, 0, 0.15);\n",
              "      filter: drop-shadow(0px 1px 2px rgba(0, 0, 0, 0.3));\n",
              "      fill: #FFFFFF;\n",
              "    }\n",
              "  </style>\n",
              "\n",
              "      <script>\n",
              "        const buttonEl =\n",
              "          document.querySelector('#df-989a8deb-c1c6-41a7-b7ce-ece181a9c066 button.colab-df-convert');\n",
              "        buttonEl.style.display =\n",
              "          google.colab.kernel.accessAllowed ? 'block' : 'none';\n",
              "\n",
              "        async function convertToInteractive(key) {\n",
              "          const element = document.querySelector('#df-989a8deb-c1c6-41a7-b7ce-ece181a9c066');\n",
              "          const dataTable =\n",
              "            await google.colab.kernel.invokeFunction('convertToInteractive',\n",
              "                                                     [key], {});\n",
              "          if (!dataTable) return;\n",
              "\n",
              "          const docLinkHtml = 'Like what you see? Visit the ' +\n",
              "            '<a target=\"_blank\" href=https://colab.research.google.com/notebooks/data_table.ipynb>data table notebook</a>'\n",
              "            + ' to learn more about interactive tables.';\n",
              "          element.innerHTML = '';\n",
              "          dataTable['output_type'] = 'display_data';\n",
              "          await google.colab.output.renderOutput(dataTable, element);\n",
              "          const docLink = document.createElement('div');\n",
              "          docLink.innerHTML = docLinkHtml;\n",
              "          element.appendChild(docLink);\n",
              "        }\n",
              "      </script>\n",
              "    </div>\n",
              "  </div>\n",
              "  "
            ]
          },
          "metadata": {},
          "execution_count": 55
        }
      ],
      "source": [
        "\n",
        "import pandas as pd\n",
        "sf = pd.read_csv('train.csv')\n",
        "sf.head()"
      ]
    },
    {
      "cell_type": "code",
      "source": [
        "import unittest\n",
        "def loss(h, y):\n",
        "  sq_error = (h - y)**2\n",
        "  n = len(y)\n",
        "  return 1.0 / (2*n) * sq_error.sum()\n",
        "class TestLoss(unittest.TestCase):\n",
        "\n",
        "  def test_zero_h_zero_y(self):\n",
        "    self.assertAlmostEqual(loss(h=np.array([0]), y=np.array([0])), 0)\n",
        "\n",
        "  def test_one_h_zero_y(self):\n",
        "    self.assertAlmostEqual(loss(h=np.array([1]), y=np.array([0])), 0.5)\n",
        "\n",
        "  def test_two_h_zero_y(self):\n",
        "    self.assertAlmostEqual(loss(h=np.array([2]), y=np.array([0])), 2)\n",
        "    \n",
        "  def test_zero_h_one_y(self):\n",
        "    self.assertAlmostEqual(loss(h=np.array([0]), y=np.array([1])), 0.5)\n",
        "    \n",
        "  def test_zero_h_two_y(self):\n",
        "    self.assertAlmostEqual(loss(h=np.array([0]), y=np.array([2])), 2)"
      ],
      "metadata": {
        "id": "r1zLJTZ7gYzV"
      },
      "execution_count": 58,
      "outputs": []
    },
    {
      "cell_type": "code",
      "source": [
        "\n",
        "x = sf[['OverallQual', 'GrLivArea', 'GarageCars']]\n",
        "y = sf['SalePrice']\n",
        "x = (x - x.mean()) / x.std()\n",
        "x = np.c_[np.ones(x.shape[0]), x]"
      ],
      "metadata": {
        "id": "doUg3pfahU6w"
      },
      "execution_count": 67,
      "outputs": []
    },
    {
      "cell_type": "code",
      "source": [
        "class LinearRegression:\n",
        "  \n",
        "  def predict(self, X):\n",
        "    return np.dot(X, self._W)\n",
        "  \n",
        "  def _gradient_descent_step(self, X, targets, lr):\n",
        "\n",
        "    predictions = self.predict(X)\n",
        "    \n",
        "    error = predictions - targets\n",
        "    gradient = np.dot(X.T,  error) / len(X)\n",
        "\n",
        "    self._W -= lr * gradient\n",
        "      \n",
        "  def fit(self, X, y, n_iter=100000, lr=0.01):\n",
        "\n",
        "    self._W = np.zeros(X.shape[1])\n",
        "\n",
        "    for i in range(n_iter):        \n",
        "        self._gradient_descent_step(x, y, lr)       \n",
        "        \n",
        "    return self\n",
        "class TestLinearRegression(unittest.TestCase):\n",
        "\n",
        "    def test_find_coefficients(self):\n",
        "      clf = LinearRegression()\n",
        "      clf.fit(x, y, n_iter=2000, lr=0.01)\n",
        "      np.testing.assert_array_almost_equal(clf._W, np.array([180921.19555322,  56294.90199925]))"
      ],
      "metadata": {
        "id": "T-rhyQO5iF4y"
      },
      "execution_count": 61,
      "outputs": []
    },
    {
      "cell_type": "code",
      "source": [
        "clf = LinearRegression()\n",
        "clf.fit(x, y, n_iter=2000, lr=0.01)\n"
      ],
      "metadata": {
        "colab": {
          "base_uri": "https://localhost:8080/"
        },
        "id": "juOoT6vRicOW",
        "outputId": "048933d1-e17a-4e61-cc59-0a95ce1e801c"
      },
      "execution_count": 68,
      "outputs": [
        {
          "output_type": "execute_result",
          "data": {
            "text/plain": [
              "<__main__.LinearRegression at 0x7fd854037eb0>"
            ]
          },
          "metadata": {},
          "execution_count": 68
        }
      ]
    },
    {
      "cell_type": "markdown",
      "source": [
        "Let's Now Predict on the basis of above saved data. If i put the sale price of 2000 for a house then it will predict the values for four variables as shown in X variable above 'OverallQual', 'GrLivArea', 'GarageCars' & 'Sale Price'.\n"
      ],
      "metadata": {
        "id": "QBjNkDpGkTDi"
      }
    },
    {
      "cell_type": "code",
      "source": [
        "clf.predict(2000)"
      ],
      "metadata": {
        "colab": {
          "base_uri": "https://localhost:8080/"
        },
        "id": "eyS1eT7ekBp0",
        "outputId": "c916ebea-5803-4b49-e8cf-35d12c0fb96f"
      },
      "execution_count": 71,
      "outputs": [
        {
          "output_type": "execute_result",
          "data": {
            "text/plain": [
              "array([3.61842391e+08, 7.49572085e+07, 5.32638766e+07, 3.18424516e+07])"
            ]
          },
          "metadata": {},
          "execution_count": 71
        }
      ]
    }
  ],
  "metadata": {
    "colab": {
      "provenance": []
    },
    "kernelspec": {
      "display_name": "Python 3.9.14 64-bit",
      "language": "python",
      "name": "python3"
    },
    "language_info": {
      "codemirror_mode": {
        "name": "ipython",
        "version": 3
      },
      "file_extension": ".py",
      "mimetype": "text/x-python",
      "name": "python",
      "nbconvert_exporter": "python",
      "pygments_lexer": "ipython3",
      "version": "3.9.14"
    },
    "vscode": {
      "interpreter": {
        "hash": "397704579725e15f5c7cb49fe5f0341eb7531c82d19f2c29d197e8b64ab5776b"
      }
    },
    "widgets": {
      "application/vnd.jupyter.widget-state+json": {
        "ec88bf33902f4386942387f4ce2fdfba": {
          "model_module": "@jupyter-widgets/controls",
          "model_name": "HBoxModel",
          "model_module_version": "1.5.0",
          "state": {
            "_dom_classes": [],
            "_model_module": "@jupyter-widgets/controls",
            "_model_module_version": "1.5.0",
            "_model_name": "HBoxModel",
            "_view_count": null,
            "_view_module": "@jupyter-widgets/controls",
            "_view_module_version": "1.5.0",
            "_view_name": "HBoxView",
            "box_style": "",
            "children": [
              "IPY_MODEL_86a0cf7633c34a29a662eaaaefbe41eb",
              "IPY_MODEL_636786e174c6438995950f2a1009b187",
              "IPY_MODEL_0fa6a73ef6834df980a7f95c41be81d9"
            ],
            "layout": "IPY_MODEL_f7cc20b468e640ee997fd9479001b943"
          }
        },
        "86a0cf7633c34a29a662eaaaefbe41eb": {
          "model_module": "@jupyter-widgets/controls",
          "model_name": "HTMLModel",
          "model_module_version": "1.5.0",
          "state": {
            "_dom_classes": [],
            "_model_module": "@jupyter-widgets/controls",
            "_model_module_version": "1.5.0",
            "_model_name": "HTMLModel",
            "_view_count": null,
            "_view_module": "@jupyter-widgets/controls",
            "_view_module_version": "1.5.0",
            "_view_name": "HTMLView",
            "description": "",
            "description_tooltip": null,
            "layout": "IPY_MODEL_b6b9c4f2967543e2917025344f3805c9",
            "placeholder": "​",
            "style": "IPY_MODEL_75984d158e2d48f9935234f4fa65280a",
            "value": "Batches: 100%"
          }
        },
        "636786e174c6438995950f2a1009b187": {
          "model_module": "@jupyter-widgets/controls",
          "model_name": "FloatProgressModel",
          "model_module_version": "1.5.0",
          "state": {
            "_dom_classes": [],
            "_model_module": "@jupyter-widgets/controls",
            "_model_module_version": "1.5.0",
            "_model_name": "FloatProgressModel",
            "_view_count": null,
            "_view_module": "@jupyter-widgets/controls",
            "_view_module_version": "1.5.0",
            "_view_name": "ProgressView",
            "bar_style": "success",
            "description": "",
            "description_tooltip": null,
            "layout": "IPY_MODEL_8d370c1bbfa54f44af7dcc267d3fe392",
            "max": 1,
            "min": 0,
            "orientation": "horizontal",
            "style": "IPY_MODEL_1af0bdce49664a64bdce73619aa322d4",
            "value": 1
          }
        },
        "0fa6a73ef6834df980a7f95c41be81d9": {
          "model_module": "@jupyter-widgets/controls",
          "model_name": "HTMLModel",
          "model_module_version": "1.5.0",
          "state": {
            "_dom_classes": [],
            "_model_module": "@jupyter-widgets/controls",
            "_model_module_version": "1.5.0",
            "_model_name": "HTMLModel",
            "_view_count": null,
            "_view_module": "@jupyter-widgets/controls",
            "_view_module_version": "1.5.0",
            "_view_name": "HTMLView",
            "description": "",
            "description_tooltip": null,
            "layout": "IPY_MODEL_ee0eeb1215d94ccca761fb1fefe6c137",
            "placeholder": "​",
            "style": "IPY_MODEL_5875c8ff753240e8b295c1a346d99727",
            "value": " 1/1 [00:04&lt;00:00,  4.40s/it]"
          }
        },
        "f7cc20b468e640ee997fd9479001b943": {
          "model_module": "@jupyter-widgets/base",
          "model_name": "LayoutModel",
          "model_module_version": "1.2.0",
          "state": {
            "_model_module": "@jupyter-widgets/base",
            "_model_module_version": "1.2.0",
            "_model_name": "LayoutModel",
            "_view_count": null,
            "_view_module": "@jupyter-widgets/base",
            "_view_module_version": "1.2.0",
            "_view_name": "LayoutView",
            "align_content": null,
            "align_items": null,
            "align_self": null,
            "border": null,
            "bottom": null,
            "display": null,
            "flex": null,
            "flex_flow": null,
            "grid_area": null,
            "grid_auto_columns": null,
            "grid_auto_flow": null,
            "grid_auto_rows": null,
            "grid_column": null,
            "grid_gap": null,
            "grid_row": null,
            "grid_template_areas": null,
            "grid_template_columns": null,
            "grid_template_rows": null,
            "height": null,
            "justify_content": null,
            "justify_items": null,
            "left": null,
            "margin": null,
            "max_height": null,
            "max_width": null,
            "min_height": null,
            "min_width": null,
            "object_fit": null,
            "object_position": null,
            "order": null,
            "overflow": null,
            "overflow_x": null,
            "overflow_y": null,
            "padding": null,
            "right": null,
            "top": null,
            "visibility": null,
            "width": null
          }
        },
        "b6b9c4f2967543e2917025344f3805c9": {
          "model_module": "@jupyter-widgets/base",
          "model_name": "LayoutModel",
          "model_module_version": "1.2.0",
          "state": {
            "_model_module": "@jupyter-widgets/base",
            "_model_module_version": "1.2.0",
            "_model_name": "LayoutModel",
            "_view_count": null,
            "_view_module": "@jupyter-widgets/base",
            "_view_module_version": "1.2.0",
            "_view_name": "LayoutView",
            "align_content": null,
            "align_items": null,
            "align_self": null,
            "border": null,
            "bottom": null,
            "display": null,
            "flex": null,
            "flex_flow": null,
            "grid_area": null,
            "grid_auto_columns": null,
            "grid_auto_flow": null,
            "grid_auto_rows": null,
            "grid_column": null,
            "grid_gap": null,
            "grid_row": null,
            "grid_template_areas": null,
            "grid_template_columns": null,
            "grid_template_rows": null,
            "height": null,
            "justify_content": null,
            "justify_items": null,
            "left": null,
            "margin": null,
            "max_height": null,
            "max_width": null,
            "min_height": null,
            "min_width": null,
            "object_fit": null,
            "object_position": null,
            "order": null,
            "overflow": null,
            "overflow_x": null,
            "overflow_y": null,
            "padding": null,
            "right": null,
            "top": null,
            "visibility": null,
            "width": null
          }
        },
        "75984d158e2d48f9935234f4fa65280a": {
          "model_module": "@jupyter-widgets/controls",
          "model_name": "DescriptionStyleModel",
          "model_module_version": "1.5.0",
          "state": {
            "_model_module": "@jupyter-widgets/controls",
            "_model_module_version": "1.5.0",
            "_model_name": "DescriptionStyleModel",
            "_view_count": null,
            "_view_module": "@jupyter-widgets/base",
            "_view_module_version": "1.2.0",
            "_view_name": "StyleView",
            "description_width": ""
          }
        },
        "8d370c1bbfa54f44af7dcc267d3fe392": {
          "model_module": "@jupyter-widgets/base",
          "model_name": "LayoutModel",
          "model_module_version": "1.2.0",
          "state": {
            "_model_module": "@jupyter-widgets/base",
            "_model_module_version": "1.2.0",
            "_model_name": "LayoutModel",
            "_view_count": null,
            "_view_module": "@jupyter-widgets/base",
            "_view_module_version": "1.2.0",
            "_view_name": "LayoutView",
            "align_content": null,
            "align_items": null,
            "align_self": null,
            "border": null,
            "bottom": null,
            "display": null,
            "flex": null,
            "flex_flow": null,
            "grid_area": null,
            "grid_auto_columns": null,
            "grid_auto_flow": null,
            "grid_auto_rows": null,
            "grid_column": null,
            "grid_gap": null,
            "grid_row": null,
            "grid_template_areas": null,
            "grid_template_columns": null,
            "grid_template_rows": null,
            "height": null,
            "justify_content": null,
            "justify_items": null,
            "left": null,
            "margin": null,
            "max_height": null,
            "max_width": null,
            "min_height": null,
            "min_width": null,
            "object_fit": null,
            "object_position": null,
            "order": null,
            "overflow": null,
            "overflow_x": null,
            "overflow_y": null,
            "padding": null,
            "right": null,
            "top": null,
            "visibility": null,
            "width": null
          }
        },
        "1af0bdce49664a64bdce73619aa322d4": {
          "model_module": "@jupyter-widgets/controls",
          "model_name": "ProgressStyleModel",
          "model_module_version": "1.5.0",
          "state": {
            "_model_module": "@jupyter-widgets/controls",
            "_model_module_version": "1.5.0",
            "_model_name": "ProgressStyleModel",
            "_view_count": null,
            "_view_module": "@jupyter-widgets/base",
            "_view_module_version": "1.2.0",
            "_view_name": "StyleView",
            "bar_color": null,
            "description_width": ""
          }
        },
        "ee0eeb1215d94ccca761fb1fefe6c137": {
          "model_module": "@jupyter-widgets/base",
          "model_name": "LayoutModel",
          "model_module_version": "1.2.0",
          "state": {
            "_model_module": "@jupyter-widgets/base",
            "_model_module_version": "1.2.0",
            "_model_name": "LayoutModel",
            "_view_count": null,
            "_view_module": "@jupyter-widgets/base",
            "_view_module_version": "1.2.0",
            "_view_name": "LayoutView",
            "align_content": null,
            "align_items": null,
            "align_self": null,
            "border": null,
            "bottom": null,
            "display": null,
            "flex": null,
            "flex_flow": null,
            "grid_area": null,
            "grid_auto_columns": null,
            "grid_auto_flow": null,
            "grid_auto_rows": null,
            "grid_column": null,
            "grid_gap": null,
            "grid_row": null,
            "grid_template_areas": null,
            "grid_template_columns": null,
            "grid_template_rows": null,
            "height": null,
            "justify_content": null,
            "justify_items": null,
            "left": null,
            "margin": null,
            "max_height": null,
            "max_width": null,
            "min_height": null,
            "min_width": null,
            "object_fit": null,
            "object_position": null,
            "order": null,
            "overflow": null,
            "overflow_x": null,
            "overflow_y": null,
            "padding": null,
            "right": null,
            "top": null,
            "visibility": null,
            "width": null
          }
        },
        "5875c8ff753240e8b295c1a346d99727": {
          "model_module": "@jupyter-widgets/controls",
          "model_name": "DescriptionStyleModel",
          "model_module_version": "1.5.0",
          "state": {
            "_model_module": "@jupyter-widgets/controls",
            "_model_module_version": "1.5.0",
            "_model_name": "DescriptionStyleModel",
            "_view_count": null,
            "_view_module": "@jupyter-widgets/base",
            "_view_module_version": "1.2.0",
            "_view_name": "StyleView",
            "description_width": ""
          }
        }
      }
    }
  },
  "nbformat": 4,
  "nbformat_minor": 0
}